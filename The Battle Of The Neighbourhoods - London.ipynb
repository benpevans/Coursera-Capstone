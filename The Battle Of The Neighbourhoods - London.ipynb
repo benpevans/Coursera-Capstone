{
 "cells": [
  {
   "cell_type": "markdown",
   "metadata": {},
   "source": [
    "# The Battle of the Neighbourhoods\n",
    "### Applied Data Science Capstone\n",
    "\n",
    "\n",
    "---\n",
    "\n",
    "\n",
    "## Introduction\n",
    "\n",
    "London has a population of roughly eight million people. Finding the best spot to open a hospitality business is difficult. In this project I will try to make this process easier by analysing the neighbourhoods of London. I will use the example of finding where is the optimal location to open a Thai Restaurant.\n",
    "\n",
    "To do this, I will look at a combination of factors. I will see which neighborhoods are the most up and coming, their proximity to central London, where there are the fewest number of restaurants and we will look at which neighborhoods have the fewest Thai Restaurants.\n",
    "\n",
    "Ultimately I will suggest a few neighbourhoods and identify what are the key aspects that make them a good place to open a business.\n",
    "\n",
    "\n",
    "## Data\n",
    "\n",
    "As the population per London Borough is between 150,000 to 300,000 I will look at smaller subdivisions of London in order to split London into more manageable sizes. To do this I will look at the Parliament Constituenties. I will get the names by scraping the data from wikipedia using **beautiful soup**. For this project, I will only consider the inner London Boroughs https://en.wikipedia.org/wiki/London_boroughs.\n",
    "\n",
    "I will get the latitude and longitude coordinates of the centre of London and each of the Boroughs by using the **google maps geocoding API**.\n",
    "\n",
    "Data relating to parliamentry constituencies is well documented. In order to find the most up and coming areas I will look at which areas had the largest increase in house prices over the past year. The data will be scraped from an excel document from the UK's Office for National Statistics Website.  https://www.ons.gov.uk/peoplepopulationandcommunity/housing/bulletins/housepricestatisticsforsmallareas/yearendingseptember2019\n",
    "\n",
    "Using **foursquare API** I will get information on the type of venues in the areas to see where there are fewest restaurants."
   ]
  },
  {
   "cell_type": "code",
   "execution_count": null,
   "metadata": {},
   "outputs": [],
   "source": []
  }
 ],
 "metadata": {
  "kernelspec": {
   "display_name": "Python 3",
   "language": "python",
   "name": "python3"
  },
  "language_info": {
   "codemirror_mode": {
    "name": "ipython",
    "version": 3
   },
   "file_extension": ".py",
   "mimetype": "text/x-python",
   "name": "python",
   "nbconvert_exporter": "python",
   "pygments_lexer": "ipython3",
   "version": "3.8.2"
  }
 },
 "nbformat": 4,
 "nbformat_minor": 4
}
